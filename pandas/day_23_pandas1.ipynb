{
 "cells": [
  {
   "cell_type": "code",
   "execution_count": 1,
   "id": "fd0c5522-04ec-4257-80c9-460e42dd4452",
   "metadata": {},
   "outputs": [
    {
     "name": "stdout",
     "output_type": "stream",
     "text": [
      "    0\n",
      "0   4\n",
      "1   8\n",
      "2  15\n",
      "3  16\n",
      "4  23\n",
      "5  42\n"
     ]
    }
   ],
   "source": [
    "import pandas as pd \n",
    "data = [4, 8, 15, 16, 23, 42]\n",
    "df = pd.DataFrame(data)\n",
    "print(df)"
   ]
  },
  {
   "cell_type": "code",
   "execution_count": 2,
   "id": "7ff50b6e-b99f-45be-a8dd-bd93ce0ec4dd",
   "metadata": {},
   "outputs": [
    {
     "name": "stdout",
     "output_type": "stream",
     "text": [
      "          0\n",
      "0   sarfraj\n",
      "1    abshar\n",
      "2  abhishek\n",
      "3    faizan\n",
      "4    hammad\n",
      "5      asif\n",
      "6   arsalan\n",
      "7      faiz\n",
      "8     nesat\n",
      "9     nemat\n"
     ]
    }
   ],
   "source": [
    "#Q.2> Create a variable of list type containing 10 elements in it, and apply pandas.Series function on the\n",
    "#     variable print it.\n",
    "import pandas as pd \n",
    "data =  [\"sarfraj\" , \"abshar\" , \"abhishek\" , \"faizan\" , \"hammad\" , \"asif\" , \"arsalan\" , \"faiz\" , \"nesat\" ,\"nemat\"]\n",
    "df = pd.DataFrame(data)\n",
    "print(df)"
   ]
  },
  {
   "cell_type": "code",
   "execution_count": 3,
   "id": "98817a3e-1962-4be2-bbe3-bb61af880286",
   "metadata": {},
   "outputs": [
    {
     "name": "stdout",
     "output_type": "stream",
     "text": [
      "     Name  Age  Gender\n",
      "0   Alice   25  Female\n",
      "1     Bob   30    Male\n",
      "2  Claire   27  Female\n"
     ]
    }
   ],
   "source": [
    "#Q.3> Create a Pandas DataFrame that contains the following data:\n",
    "#     Then, print the DataFrame.\n",
    "import pandas as pd \n",
    "data = {'Name': ['Alice' ,  'Bob' ,  'Claire'],\n",
    "\n",
    "        'Age': [25, 30, 27],\n",
    "\n",
    "        'Gender': ['Female', 'Male', 'Female']}\n",
    "df = pd.DataFrame(data)\n",
    "print(df)"
   ]
  },
  {
   "cell_type": "code",
   "execution_count": 4,
   "id": "143cea0d-e34c-4469-948a-54f980bda0e1",
   "metadata": {},
   "outputs": [
    {
     "name": "stdout",
     "output_type": "stream",
     "text": [
      "      Name  Age  Gender\n",
      "0    Alice   25  Female\n",
      "1      Bob   30    Male\n",
      "2  Charlie   35    Male\n"
     ]
    }
   ],
   "source": [
    "'''Q.4> What is ‘DataFrame’ in pandas and how is it different from pandas.series? Explain with an example.\n",
    "   Ans>  In Pandas, a DataFrame is a two-dimensional labeled data structure with columns of potentially \n",
    "         different data types. It is similar to a spreadsheet  or a  SQL table. In a DataFrame , data is \n",
    "         organized in rows and columns, where each column can be considered as a Pandas Series.\n",
    "\n",
    "         On the other hand, a Series in Pandas is a one-dimensional labeled array that can contain data of any \n",
    "         data type, including integers, strings, and floating-point numbers. It is similar to a column in a \n",
    "         spreadsheet or a SQL table.\n",
    "\n",
    "         The main difference between a DataFrame and a Series is that a DataFrame is a two-dimensional data \n",
    "         structure with rows and columns, while a Series is a one-dimensional data structure with only one column.\n",
    "         Here's an example to illustrate the difference between a DataFrame and a Series:\n",
    "\n",
    "         Suppose we have the following data:\n",
    "         Name(Alice , Bob, Charlie) , Age(25, 3, 35) , Gender (Female,Male ,Male)\n",
    "         We can represent this data using a DataFrame in Pandas as follows:'''\n",
    "import pandas as pd\n",
    "\n",
    "data = {'Name': ['Alice', 'Bob', 'Charlie'],\n",
    "        'Age': [25, 30, 35],\n",
    "        'Gender': ['Female', 'Male', 'Male']}\n",
    "\n",
    "df = pd.DataFrame(data)\n",
    "\n",
    "print(df)\n",
    " \n",
    "    "
   ]
  },
  {
   "cell_type": "code",
   "execution_count": null,
   "id": "455c0324-b72d-446f-bbd4-cf39c65998da",
   "metadata": {},
   "outputs": [],
   "source": [
    "#Q.5> What are some common functions you can use to manipulate data in a Pandas DataFrame? Can\n",
    "     #you give an example of when you might use one of these functions?\n",
    "\n",
    "# Pandas is a powerful data manipulation library in Python, and it provides numerous built-in functions to manipulate data in a DataFrame. Some common functions that you can use to manipulate data in a Pandas DataFrame include:\n",
    "\n",
    "# head(): This function allows you to view the first few rows of a DataFrame. For example, you can use df.head() to quickly inspect the top rows of a DataFrame and get an overview of its contents.\n",
    "\n",
    "# tail(): This function allows you to view the last few rows of a DataFrame. For example, you can use df.tail() to quickly inspect the bottom rows of a DataFrame and verify the data.\n",
    "\n",
    "# info(): This function provides detailed information about the DataFrame, including the data types of each column, the number of non-null values, and memory usage. For example, you can use df.info() to get a summary of the DataFrame's structure and data types.\n",
    "\n",
    "# describe(): This function generates descriptive statistics of the DataFrame, such as count, mean, standard deviation, and quartile values. For example, you can use df.describe() to get a statistical summary of the numeric columns in the DataFrame.\n",
    "\n",
    "# sort_values(): This function allows you to sort the DataFrame by one or more columns. You can specify the column(s) to sort by and the sorting order (ascending or descending). For example, you can use df.sort_values('column_name', ascending=False) to sort the DataFrame by a specific column in descending order.\n",
    "\n",
    "# groupby(): This function is used for grouping data in a DataFrame based on one or more columns. You can then apply various aggregate functions, such as sum(), mean(), count(), etc., on the grouped data. For example, you can use df.groupby('column_name').mean() to calculate the mean of a specific column grouped by another column.\n",
    "\n",
    "# fillna(): This function is used to fill missing values in a DataFrame with a specified value or using a specified method, such as forward fill or backward fill. For example, you can use df.fillna(0) to replace all the missing values in a DataFrame with zeros.\n",
    "\n",
    "# drop(): This function is used to drop specified rows or columns from a DataFrame. You can specify the rows or columns to drop by passing their labels or indexes. For example, you can use df.drop('column_name', axis=1) to remove a specific column from the DataFrame.\n",
    "\n",
    "# merge(): This function is used to merge two or more DataFrames based on common columns. You can specify the columns to merge on, as well as the type of merge (inner, outer, left, or right). For example, you can use pd.merge(df1, df2, on='common_column') to merge two DataFrames based on a common column.\n",
    "\n",
    "# pivot_table(): This function is used to create a pivot table from a DataFrame. You can specify the values, index, and columns to use in the pivot table, as well as the aggregation function to apply. For example, you can use pd.pivot_table(df, values='value_column', index='index_column', columns='column_name', aggfunc='mean') to create a pivot table with mean values for a specific value column, indexed by a certain column, and with columns defined by another column.\n",
    "\n",
    "# These are just a few examples of the many functions available in Pandas for data manipulation in a DataFrame. Depending on your specific data analysis requirements, you may need to use other functions as well to clean, transform, and analyze your data effectively.\n",
    "\n",
    "import pandas as pd\n",
    "\n",
    "# Create a DataFrame\n",
    "df = pd.DataFrame({'Name': ['Alice', 'Bob', 'Charlie', 'Dave', 'Eve'],\n",
    "                   'Age': [25, 32, 28, 22, 30],\n",
    "                   'City': ['New York', 'Los Angeles', 'Chicago', 'Houston', 'Miami']})\n",
    "\n",
    "# Use head() to view the first 3 rows of the DataFrame\n",
    "print(df.head(3))\n",
    "\n",
    "\n",
    "\n",
    "import pandas as pd\n",
    "\n",
    "# Create a DataFrame\n",
    "df = pd.DataFrame({'Name': ['Alice', 'Bob', 'Charlie'],\n",
    "                   'Age': [25, 32, 28],\n",
    "                   'City': ['New York', 'Los Angeles', 'Chicago']})\n",
    "\n",
    "# Use info() to get information about the DataFrame\n",
    "print(df.info())\n",
    "\n",
    "# Output:\n",
    "# <class 'pandas.core.frame.DataFrame'>\n",
    "# RangeIndex: 3 entries, 0 to 2\n",
    "# Data columns (total 3 columns):\n",
    "#  #   Column  Non-Null Count  Dtype \n",
    "# ---  ------  --------------  ----- \n",
    "#  0   Name    3 non-null      object\n",
    "#  1   Age     3 non-null      int64 \n",
    "#  2   City    3 non-null      object\n",
    "# dtypes: int64(1), object(2)\n",
    "# memory usage: 203.0+ bytes\n",
    "# None\n",
    "\n",
    "# Use describe() to get statistical summary of the DataFrame\n",
    "print(df.describe())\n",
    "\n",
    "# Output:\n",
    "#             Age\n",
    "# count   3.000000\n",
    "# mean   28.333333\n",
    "# std     3.055050\n",
    "# min    25.000000\n",
    "# 25%    26.500000\n",
    "# 50%    28.000000\n",
    "# 75%    30.000000\n",
    "# max    32.000000\n",
    "Using sort_values():\n",
    "python\n",
    "\n",
    "\n",
    "import pandas as pd\n",
    "\n",
    "# Create a DataFrame\n",
    "df = pd.DataFrame({'Name': ['Alice', 'Bob', 'Charlie'],\n",
    "                   'Age': [25, 32, 28],\n",
    "                   'City': ['New York', 'Los Angeles', 'Chicago']})\n",
    "\n",
    "# Sort the DataFrame by 'Age' column in ascending order\n",
    "df_sorted = df.sort_values('Age', ascending=True)\n",
    "\n",
    "print(df_sorted)\n",
    "\n"
   ]
  },
  {
   "cell_type": "code",
   "execution_count": null,
   "id": "bd85f399-c605-43fa-bdd5-3120620232b5",
   "metadata": {},
   "outputs": [],
   "source": [
    "Q.6> Which of the following is mutable in nature Series, DataFrame, Panel?\n",
    "Ans> In Pandas, both Series and DataFrame are mutable in nature, while Panel is considered deprecated \n",
    "     and has been replaced by multi-dimensional arrays, such as numpy.ndarray or xarray.DataArray, \n",
    "     which are also mutable.\n",
    "\n",
    "     In a mutable object, the contents of the object can be modified after it is created. This means \n",
    "     that you can add, remove, or update elements in a Series or DataFrame after they are created."
   ]
  },
  {
   "cell_type": "code",
   "execution_count": null,
   "id": "f580816d-9c09-4a65-ba12-119372005162",
   "metadata": {},
   "outputs": [],
   "source": [
    "#Q.7> Create a DataFrame using multiple Series. Explain with an example.\n",
    "import pandas as pd\n",
    "\n",
    "# Create a Series for each column of data\n",
    "names = pd.Series(['Alice', 'Bob', 'Charlie', 'David', 'Emily'])\n",
    "ages = pd.Series([25, 30, 35, 40, 45])\n",
    "genders = pd.Series(['Female', 'Male', 'Male', 'Male', 'Female'])\n",
    "\n",
    "# Combine the Series into a DataFrame\n",
    "df = pd.DataFrame({'Name': names, 'Age': ages, 'Gender': genders})\n",
    "\n",
    "# Print the resulting DataFrame\n",
    "print(df)"
   ]
  }
 ],
 "metadata": {
  "kernelspec": {
   "display_name": "Python 3 (ipykernel)",
   "language": "python",
   "name": "python3"
  },
  "language_info": {
   "codemirror_mode": {
    "name": "ipython",
    "version": 3
   },
   "file_extension": ".py",
   "mimetype": "text/x-python",
   "name": "python",
   "nbconvert_exporter": "python",
   "pygments_lexer": "ipython3",
   "version": "3.10.8"
  }
 },
 "nbformat": 4,
 "nbformat_minor": 5
}
